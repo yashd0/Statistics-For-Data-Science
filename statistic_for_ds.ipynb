{
  "nbformat": 4,
  "nbformat_minor": 0,
  "metadata": {
    "colab": {
      "provenance": []
    },
    "kernelspec": {
      "name": "python3",
      "display_name": "Python 3"
    },
    "language_info": {
      "name": "python"
    }
  },
  "cells": [
    {
      "cell_type": "markdown",
      "source": [
        "NAME = YASH U DUBAL \n",
        "\n",
        "\n",
        "PROJEC NAME = Statistics For Data Science"
      ],
      "metadata": {
        "id": "1s6ODNc7XLGL"
      }
    },
    {
      "cell_type": "code",
      "source": [],
      "metadata": {
        "id": "rzYhXvZUXXPP"
      },
      "execution_count": null,
      "outputs": []
    },
    {
      "cell_type": "markdown",
      "source": [
        "THIS PROJECT CONSITS OF UNDERSTANDING AND VISUVALIZATION OF SOME OF THE KEY CONCEPTS OF STATISTIC IN DATA SCIENCE such as :\n",
        "\n",
        "1) Measure of central tendency\n",
        "\n",
        "2) Measure of Spread\n",
        "\n",
        "3) Correlations and covariance \n",
        "\n",
        "4) Distributions\n",
        "\n",
        "5) Understand Central Limit Theorem     and     Confidence Interval   "
      ],
      "metadata": {
        "id": "hfEhjXteOvkU"
      }
    },
    {
      "cell_type": "code",
      "execution_count": 2,
      "metadata": {
        "id": "oVsWt4uDC96d"
      },
      "outputs": [],
      "source": [
        "import pandas as pd \n",
        "import numpy as np\n",
        "import seaborn as sns\n",
        "import matplotlib.pyplot as plt\n",
        "\n",
        "%matplotlib inline\n"
      ]
    },
    {
      "cell_type": "code",
      "source": [
        "df = pd.DataFrame({'movie ': ['a','b','c','a' , 'b' , 'c' , 'a' , 'b' , 'c'],\n",
        "                   'rating': [9,7,6,9,5,7,8,9,5]})"
      ],
      "metadata": {
        "id": "poxuyml9D4O0"
      },
      "execution_count": 4,
      "outputs": []
    },
    {
      "cell_type": "code",
      "source": [
        "df.mean()"
      ],
      "metadata": {
        "colab": {
          "base_uri": "https://localhost:8080/"
        },
        "id": "R1Oo6XYzFNEK",
        "outputId": "c0d8d23a-f0c0-48fc-ae10-15e53f355f54"
      },
      "execution_count": 5,
      "outputs": [
        {
          "output_type": "stream",
          "name": "stderr",
          "text": [
            "<ipython-input-5-c61f0c8f89b5>:1: FutureWarning: Dropping of nuisance columns in DataFrame reductions (with 'numeric_only=None') is deprecated; in a future version this will raise TypeError.  Select only valid columns before calling the reduction.\n",
            "  df.mean()\n"
          ]
        },
        {
          "output_type": "execute_result",
          "data": {
            "text/plain": [
              "rating    7.222222\n",
              "dtype: float64"
            ]
          },
          "metadata": {},
          "execution_count": 5
        }
      ]
    },
    {
      "cell_type": "code",
      "source": [
        "df.mode()"
      ],
      "metadata": {
        "colab": {
          "base_uri": "https://localhost:8080/",
          "height": 143
        },
        "id": "ARQM52lZFXK5",
        "outputId": "085ec9ef-e08c-4218-f940-eda8f0efa1aa"
      },
      "execution_count": 6,
      "outputs": [
        {
          "output_type": "execute_result",
          "data": {
            "text/plain": [
              "  movie   rating\n",
              "0      a     9.0\n",
              "1      b     NaN\n",
              "2      c     NaN"
            ],
            "text/html": [
              "\n",
              "  <div id=\"df-d3e731f8-f0ac-44e9-bb56-3e03fba3abd9\">\n",
              "    <div class=\"colab-df-container\">\n",
              "      <div>\n",
              "<style scoped>\n",
              "    .dataframe tbody tr th:only-of-type {\n",
              "        vertical-align: middle;\n",
              "    }\n",
              "\n",
              "    .dataframe tbody tr th {\n",
              "        vertical-align: top;\n",
              "    }\n",
              "\n",
              "    .dataframe thead th {\n",
              "        text-align: right;\n",
              "    }\n",
              "</style>\n",
              "<table border=\"1\" class=\"dataframe\">\n",
              "  <thead>\n",
              "    <tr style=\"text-align: right;\">\n",
              "      <th></th>\n",
              "      <th>movie</th>\n",
              "      <th>rating</th>\n",
              "    </tr>\n",
              "  </thead>\n",
              "  <tbody>\n",
              "    <tr>\n",
              "      <th>0</th>\n",
              "      <td>a</td>\n",
              "      <td>9.0</td>\n",
              "    </tr>\n",
              "    <tr>\n",
              "      <th>1</th>\n",
              "      <td>b</td>\n",
              "      <td>NaN</td>\n",
              "    </tr>\n",
              "    <tr>\n",
              "      <th>2</th>\n",
              "      <td>c</td>\n",
              "      <td>NaN</td>\n",
              "    </tr>\n",
              "  </tbody>\n",
              "</table>\n",
              "</div>\n",
              "      <button class=\"colab-df-convert\" onclick=\"convertToInteractive('df-d3e731f8-f0ac-44e9-bb56-3e03fba3abd9')\"\n",
              "              title=\"Convert this dataframe to an interactive table.\"\n",
              "              style=\"display:none;\">\n",
              "        \n",
              "  <svg xmlns=\"http://www.w3.org/2000/svg\" height=\"24px\"viewBox=\"0 0 24 24\"\n",
              "       width=\"24px\">\n",
              "    <path d=\"M0 0h24v24H0V0z\" fill=\"none\"/>\n",
              "    <path d=\"M18.56 5.44l.94 2.06.94-2.06 2.06-.94-2.06-.94-.94-2.06-.94 2.06-2.06.94zm-11 1L8.5 8.5l.94-2.06 2.06-.94-2.06-.94L8.5 2.5l-.94 2.06-2.06.94zm10 10l.94 2.06.94-2.06 2.06-.94-2.06-.94-.94-2.06-.94 2.06-2.06.94z\"/><path d=\"M17.41 7.96l-1.37-1.37c-.4-.4-.92-.59-1.43-.59-.52 0-1.04.2-1.43.59L10.3 9.45l-7.72 7.72c-.78.78-.78 2.05 0 2.83L4 21.41c.39.39.9.59 1.41.59.51 0 1.02-.2 1.41-.59l7.78-7.78 2.81-2.81c.8-.78.8-2.07 0-2.86zM5.41 20L4 18.59l7.72-7.72 1.47 1.35L5.41 20z\"/>\n",
              "  </svg>\n",
              "      </button>\n",
              "      \n",
              "  <style>\n",
              "    .colab-df-container {\n",
              "      display:flex;\n",
              "      flex-wrap:wrap;\n",
              "      gap: 12px;\n",
              "    }\n",
              "\n",
              "    .colab-df-convert {\n",
              "      background-color: #E8F0FE;\n",
              "      border: none;\n",
              "      border-radius: 50%;\n",
              "      cursor: pointer;\n",
              "      display: none;\n",
              "      fill: #1967D2;\n",
              "      height: 32px;\n",
              "      padding: 0 0 0 0;\n",
              "      width: 32px;\n",
              "    }\n",
              "\n",
              "    .colab-df-convert:hover {\n",
              "      background-color: #E2EBFA;\n",
              "      box-shadow: 0px 1px 2px rgba(60, 64, 67, 0.3), 0px 1px 3px 1px rgba(60, 64, 67, 0.15);\n",
              "      fill: #174EA6;\n",
              "    }\n",
              "\n",
              "    [theme=dark] .colab-df-convert {\n",
              "      background-color: #3B4455;\n",
              "      fill: #D2E3FC;\n",
              "    }\n",
              "\n",
              "    [theme=dark] .colab-df-convert:hover {\n",
              "      background-color: #434B5C;\n",
              "      box-shadow: 0px 1px 3px 1px rgba(0, 0, 0, 0.15);\n",
              "      filter: drop-shadow(0px 1px 2px rgba(0, 0, 0, 0.3));\n",
              "      fill: #FFFFFF;\n",
              "    }\n",
              "  </style>\n",
              "\n",
              "      <script>\n",
              "        const buttonEl =\n",
              "          document.querySelector('#df-d3e731f8-f0ac-44e9-bb56-3e03fba3abd9 button.colab-df-convert');\n",
              "        buttonEl.style.display =\n",
              "          google.colab.kernel.accessAllowed ? 'block' : 'none';\n",
              "\n",
              "        async function convertToInteractive(key) {\n",
              "          const element = document.querySelector('#df-d3e731f8-f0ac-44e9-bb56-3e03fba3abd9');\n",
              "          const dataTable =\n",
              "            await google.colab.kernel.invokeFunction('convertToInteractive',\n",
              "                                                     [key], {});\n",
              "          if (!dataTable) return;\n",
              "\n",
              "          const docLinkHtml = 'Like what you see? Visit the ' +\n",
              "            '<a target=\"_blank\" href=https://colab.research.google.com/notebooks/data_table.ipynb>data table notebook</a>'\n",
              "            + ' to learn more about interactive tables.';\n",
              "          element.innerHTML = '';\n",
              "          dataTable['output_type'] = 'display_data';\n",
              "          await google.colab.output.renderOutput(dataTable, element);\n",
              "          const docLink = document.createElement('div');\n",
              "          docLink.innerHTML = docLinkHtml;\n",
              "          element.appendChild(docLink);\n",
              "        }\n",
              "      </script>\n",
              "    </div>\n",
              "  </div>\n",
              "  "
            ]
          },
          "metadata": {},
          "execution_count": 6
        }
      ]
    },
    {
      "cell_type": "code",
      "source": [
        "df.median()"
      ],
      "metadata": {
        "colab": {
          "base_uri": "https://localhost:8080/"
        },
        "id": "YLE3UAfBFZoK",
        "outputId": "95a19675-351a-47e5-bb45-6b1698af401d"
      },
      "execution_count": 7,
      "outputs": [
        {
          "output_type": "stream",
          "name": "stderr",
          "text": [
            "<ipython-input-7-6d467abf240d>:1: FutureWarning: Dropping of nuisance columns in DataFrame reductions (with 'numeric_only=None') is deprecated; in a future version this will raise TypeError.  Select only valid columns before calling the reduction.\n",
            "  df.median()\n"
          ]
        },
        {
          "output_type": "execute_result",
          "data": {
            "text/plain": [
              "rating    7.0\n",
              "dtype: float64"
            ]
          },
          "metadata": {},
          "execution_count": 7
        }
      ]
    },
    {
      "cell_type": "markdown",
      "source": [
        "**VISUVALIZATION OF CENTRAL TENDENCY**"
      ],
      "metadata": {
        "id": "StqaH7ijFvAq"
      }
    },
    {
      "cell_type": "code",
      "source": [
        "sns.displot(df, kde=True, rug=True)\n",
        "plt.axvline(np.mean(df.rating), color='r', linestyle='-')\n",
        "plt.axvline(np.median(df.rating), color='g', linestyle='-')\n",
        "plt.axvline(df.rating.mode().values[0], color='b', linestyle='-')"
      ],
      "metadata": {
        "colab": {
          "base_uri": "https://localhost:8080/",
          "height": 386
        },
        "id": "1OG4x13vF0sS",
        "outputId": "d5f372f0-676e-4c00-d2b8-96e81d364853"
      },
      "execution_count": 8,
      "outputs": [
        {
          "output_type": "execute_result",
          "data": {
            "text/plain": [
              "<matplotlib.lines.Line2D at 0x7f845e6a0370>"
            ]
          },
          "metadata": {},
          "execution_count": 8
        },
        {
          "output_type": "display_data",
          "data": {
            "text/plain": [
              "<Figure size 425.75x360 with 1 Axes>"
            ],
            "image/png": "[encoded data removed]"
          },
          "metadata": {
            "needs_background": "light"
          }
        }
      ]
    },
    {
      "cell_type": "markdown",
      "source": [
        "**VISUVALIZATION OF CENTRAL TENDENCY IN ANOTHER WAY**"
      ],
      "metadata": {
        "id": "RT6y_ctLG1eR"
      }
    },
    {
      "cell_type": "code",
      "source": [
        "f, (ax_box, ax_hist) = plt.subplots(2, sharex= True,\n",
        "                                     gridspec_kw={'height_ratios':(0.2,1)})\n",
        "\n",
        "mean = np.mean(df.rating)\n",
        "median = np.median(df.rating)\n",
        "mode = df.rating.mode().values[0]\n",
        "\n",
        "sns.boxplot(data=df, x = 'rating', ax=ax_box)\n",
        "ax_box.axvline(mean,color='r',linestyle='-')\n",
        "ax_box.axvline(median,color='g',linestyle='-')\n",
        "ax_box.axvline(mode,color='b',linestyle='-')\n",
        "\n",
        "sns.histplot(data=df, x ='rating', ax=ax_hist, kde=True)\n",
        "ax_hist.axvline(mean, color='r',linestyle='-',label='Mean')\n",
        "ax_hist.axvline(mean, color='g',linestyle='-',label='Median')\n",
        "ax_hist.axvline(mean, color='b',linestyle='-',label='Mode')\n",
        "\n",
        "ax_hist.legend()\n",
        "ax_box.set(xlabel='')\n",
        "plt.show()\n"
      ],
      "metadata": {
        "colab": {
          "base_uri": "https://localhost:8080/",
          "height": 279
        },
        "id": "86eeRkEsHBmf",
        "outputId": "f346b562-3252-42ae-cba7-50b57524f939"
      },
      "execution_count": 9,
      "outputs": [
        {
          "output_type": "display_data",
          "data": {
            "text/plain": [
              "<Figure size 432x288 with 2 Axes>"
            ],
            "image/png": "[encoded data removed]"
          },
          "metadata": {
            "needs_background": "light"
          }
        }
      ]
    },
    {
      "cell_type": "code",
      "source": [
        "df.rating.var()"
      ],
      "metadata": {
        "colab": {
          "base_uri": "https://localhost:8080/"
        },
        "id": "594ggy-wJPYO",
        "outputId": "fb1f466e-4131-4676-e883-45d348451f6f"
      },
      "execution_count": 10,
      "outputs": [
        {
          "output_type": "execute_result",
          "data": {
            "text/plain": [
              "2.6944444444444446"
            ]
          },
          "metadata": {},
          "execution_count": 10
        }
      ]
    },
    {
      "cell_type": "code",
      "source": [
        "df.rating.std()"
      ],
      "metadata": {
        "colab": {
          "base_uri": "https://localhost:8080/"
        },
        "id": "SxreghpeJTGf",
        "outputId": "92e16148-b7f3-4070-c925-a150a7bcefe5"
      },
      "execution_count": 11,
      "outputs": [
        {
          "output_type": "execute_result",
          "data": {
            "text/plain": [
              "1.6414763002993509"
            ]
          },
          "metadata": {},
          "execution_count": 11
        }
      ]
    },
    {
      "cell_type": "code",
      "source": [
        "df.std()\n"
      ],
      "metadata": {
        "colab": {
          "base_uri": "https://localhost:8080/"
        },
        "id": "5-3GwtVVJdq7",
        "outputId": "88a01045-9bd6-4c74-f4e2-5a02af8066ea"
      },
      "execution_count": 17,
      "outputs": [
        {
          "output_type": "stream",
          "name": "stderr",
          "text": [
            "<ipython-input-17-ce97bb7eaef8>:1: FutureWarning: Dropping of nuisance columns in DataFrame reductions (with 'numeric_only=None') is deprecated; in a future version this will raise TypeError.  Select only valid columns before calling the reduction.\n",
            "  df.std()\n"
          ]
        },
        {
          "output_type": "execute_result",
          "data": {
            "text/plain": [
              "rating    1.641476\n",
              "dtype: float64"
            ]
          },
          "metadata": {},
          "execution_count": 17
        }
      ]
    },
    {
      "cell_type": "code",
      "source": [
        "df1 = pd.DataFrame({'pop_sample':range(20)})"
      ],
      "metadata": {
        "id": "rx2vdaNuMLzC"
      },
      "execution_count": 27,
      "outputs": []
    },
    {
      "cell_type": "code",
      "source": [
        "df1.sample(5).mean()"
      ],
      "metadata": {
        "colab": {
          "base_uri": "https://localhost:8080/"
        },
        "id": "4Zr6U1-hMXgS",
        "outputId": "5dc631f3-abee-42ee-85fe-034fdca1cb3b"
      },
      "execution_count": 32,
      "outputs": [
        {
          "output_type": "execute_result",
          "data": {
            "text/plain": [
              "pop_sample    13.6\n",
              "dtype: float64"
            ]
          },
          "metadata": {},
          "execution_count": 32
        }
      ]
    },
    {
      "cell_type": "code",
      "source": [
        "df1.sample(10).mean()"
      ],
      "metadata": {
        "colab": {
          "base_uri": "https://localhost:8080/"
        },
        "id": "ewdIOWyyMjrt",
        "outputId": "3e5fdc2a-f722-4b12-9bf9-010ae2b768c5"
      },
      "execution_count": 30,
      "outputs": [
        {
          "output_type": "execute_result",
          "data": {
            "text/plain": [
              "pop_sample    11.3\n",
              "dtype: float64"
            ]
          },
          "metadata": {},
          "execution_count": 30
        }
      ]
    },
    {
      "cell_type": "code",
      "source": [
        "df1.mean()"
      ],
      "metadata": {
        "colab": {
          "base_uri": "https://localhost:8080/"
        },
        "id": "U9ytqkcFMnY0",
        "outputId": "1e2cf0bb-7f20-405e-e6c9-771a90488de0"
      },
      "execution_count": 31,
      "outputs": [
        {
          "output_type": "execute_result",
          "data": {
            "text/plain": [
              "pop_sample    9.5\n",
              "dtype: float64"
            ]
          },
          "metadata": {},
          "execution_count": 31
        }
      ]
    },
    {
      "cell_type": "code",
      "source": [
        "from scipy import stats \n",
        "stats.sem(df1)\n",
        "\n"
      ],
      "metadata": {
        "colab": {
          "base_uri": "https://localhost:8080/"
        },
        "id": "ccSCN7IiMsPT",
        "outputId": "7d00a6b5-6514-4d0a-d96b-bb6da03069c5"
      },
      "execution_count": 34,
      "outputs": [
        {
          "output_type": "execute_result",
          "data": {
            "text/plain": [
              "array([1.32287566])"
            ]
          },
          "metadata": {},
          "execution_count": 34
        }
      ]
    },
    {
      "cell_type": "code",
      "source": [
        "df2=sns.load_dataset('tips')\n",
        "\n",
        "ax=sns.boxplot(x='day', y='total_bill', data=df2)"
      ],
      "metadata": {
        "colab": {
          "base_uri": "https://localhost:8080/",
          "height": 279
        },
        "id": "8IVuUlySNXlc",
        "outputId": "a8d3f0cb-a561-41c3-c919-77dda76d5d78"
      },
      "execution_count": 37,
      "outputs": [
        {
          "output_type": "display_data",
          "data": {
            "text/plain": [
              "<Figure size 432x288 with 1 Axes>"
            ],
            "image/png": "[encoded data removed]"
          },
          "metadata": {
            "needs_background": "light"
          }
        }
      ]
    },
    {
      "cell_type": "code",
      "source": [
        "ax = sns.boxplot(x='day',y='total_bill', data=df2)\n",
        "ax = sns.swarmplot(x='day',y='total_bill', data=df2 , color='0.25')"
      ],
      "metadata": {
        "colab": {
          "base_uri": "https://localhost:8080/",
          "height": 279
        },
        "id": "gZ6wuTmnNzS7",
        "outputId": "e6bff087-623d-4123-e3d1-7a62c231e85a"
      },
      "execution_count": 38,
      "outputs": [
        {
          "output_type": "display_data",
          "data": {
            "text/plain": [
              "<Figure size 432x288 with 1 Axes>"
            ],
            "image/png": "[encoded data removed]"
          },
          "metadata": {
            "needs_background": "light"
          }
        }
      ]
    },
    {
      "cell_type": "code",
      "source": [
        "print(df2['total_bill'].quantile(0.75) - df2['total_bill'].quantile(0.25))"
      ],
      "metadata": {
        "colab": {
          "base_uri": "https://localhost:8080/"
        },
        "id": "i4ShgvmpOULD",
        "outputId": "76fbe7ec-b041-4261-ea88-da0c0a6dd468"
      },
      "execution_count": 40,
      "outputs": [
        {
          "output_type": "stream",
          "name": "stdout",
          "text": [
            "10.779999999999998\n"
          ]
        }
      ]
    },
    {
      "cell_type": "code",
      "source": [],
      "metadata": {
        "id": "6EkOQAqQOlTo"
      },
      "execution_count": null,
      "outputs": []
    },
    {
      "cell_type": "markdown",
      "source": [
        "CALCULATING IQR "
      ],
      "metadata": {
        "id": "JCs2xvAOOmus"
      }
    },
    {
      "cell_type": "code",
      "source": [
        "print(df2['total_bill'].quantile([0.05,0.25,0.5,0.75]))"
      ],
      "metadata": {
        "colab": {
          "base_uri": "https://localhost:8080/"
        },
        "id": "Od_yFOCDOD-7",
        "outputId": "8228c71d-e4d2-43d6-febe-86d3e3a65c76"
      },
      "execution_count": 39,
      "outputs": [
        {
          "output_type": "stream",
          "name": "stdout",
          "text": [
            "0.05     9.5575\n",
            "0.25    13.3475\n",
            "0.50    17.7950\n",
            "0.75    24.1275\n",
            "Name: total_bill, dtype: float64\n"
          ]
        }
      ]
    },
    {
      "cell_type": "code",
      "source": [
        "df3 = sns.load_dataset('iris')"
      ],
      "metadata": {
        "id": "5b4xw2WhPEk5"
      },
      "execution_count": 41,
      "outputs": []
    },
    {
      "cell_type": "code",
      "source": [
        "fig, ax=plt.subplots(figsize=(6,6))\n",
        "ax = sns.heatmap(df3.corr(), vmin= 1, vmax=1 ,\n",
        "                 cmap=sns.diverging_palette(20,220, as_cmap=True), ax=ax)\n",
        "plt.tight_layout()\n",
        "plt.show()"
      ],
      "metadata": {
        "colab": {
          "base_uri": "https://localhost:8080/",
          "height": 441
        },
        "id": "fzkGO8tIPNqC",
        "outputId": "747b9b5c-e4c0-4d67-e7a0-d2c7552b2ffe"
      },
      "execution_count": 42,
      "outputs": [
        {
          "output_type": "display_data",
          "data": {
            "text/plain": [
              "<Figure size 432x432 with 2 Axes>"
            ],
            "image/png": "[encoded data removed]"
          },
          "metadata": {
            "needs_background": "light"
          }
        }
      ]
    },
    {
      "cell_type": "code",
      "source": [
        "a = [11,12,22,11]\n",
        "b = [7,8,9,10]\n",
        "c=[10,11,22,23]\n",
        "arr = np.array([a,b,c])"
      ],
      "metadata": {
        "id": "WuXMx6uGPw0S"
      },
      "execution_count": 43,
      "outputs": []
    },
    {
      "cell_type": "code",
      "source": [
        "cov_matrix = np.cov(arr, bias=True)"
      ],
      "metadata": {
        "id": "9d2nbpRTQAMC"
      },
      "execution_count": 44,
      "outputs": []
    },
    {
      "cell_type": "code",
      "source": [
        "cov_matrix"
      ],
      "metadata": {
        "colab": {
          "base_uri": "https://localhost:8080/"
        },
        "id": "pS0NkyjbQFQq",
        "outputId": "52d7aa16-d9b5-47f5-886d-608f2f8121f2"
      },
      "execution_count": 45,
      "outputs": [
        {
          "output_type": "execute_result",
          "data": {
            "text/plain": [
              "array([[21.5 ,  1.25, 13.75],\n",
              "       [ 1.25,  1.25,  6.25],\n",
              "       [13.75,  6.25, 36.25]])"
            ]
          },
          "metadata": {},
          "execution_count": 45
        }
      ]
    },
    {
      "cell_type": "code",
      "source": [
        "sns.heatmap(cov_matrix, annot=True, fmt='g')\n",
        "plt.show()"
      ],
      "metadata": {
        "colab": {
          "base_uri": "https://localhost:8080/",
          "height": 265
        },
        "id": "sG4yExLjQJSL",
        "outputId": "4d94a626-0043-4597-963f-3ca3cfa82588"
      },
      "execution_count": 46,
      "outputs": [
        {
          "output_type": "display_data",
          "data": {
            "text/plain": [
              "<Figure size 432x288 with 2 Axes>"
            ],
            "image/png": "[encoded data removed]"
          },
          "metadata": {
            "needs_background": "light"
          }
        }
      ]
    },
    {
      "cell_type": "markdown",
      "source": [
        "DISTRUBUTIONS OF OUR DATA"
      ],
      "metadata": {
        "id": "8BFcplL_QYJY"
      }
    },
    {
      "cell_type": "code",
      "source": [
        "df.skew()"
      ],
      "metadata": {
        "colab": {
          "base_uri": "https://localhost:8080/"
        },
        "id": "vlDdT1DXQkGC",
        "outputId": "07a42433-acd2-4474-de7b-98ec6f51e0ce"
      },
      "execution_count": 47,
      "outputs": [
        {
          "output_type": "stream",
          "name": "stderr",
          "text": [
            "<ipython-input-47-9e0b1e29546f>:1: FutureWarning: Dropping of nuisance columns in DataFrame reductions (with 'numeric_only=None') is deprecated; in a future version this will raise TypeError.  Select only valid columns before calling the reduction.\n",
            "  df.skew()\n"
          ]
        },
        {
          "output_type": "execute_result",
          "data": {
            "text/plain": [
              "rating   -0.23507\n",
              "dtype: float64"
            ]
          },
          "metadata": {},
          "execution_count": 47
        }
      ]
    },
    {
      "cell_type": "markdown",
      "source": [
        "Negative skew refers to a longer or fatter tail on the left side of the distribution"
      ],
      "metadata": {
        "id": "89bawmh7Rp1z"
      }
    },
    {
      "cell_type": "markdown",
      "source": [
        "In statistics, kurtosis is used to describe the shape of a probability distribution.\n",
        "\n",
        "Specifically, it tells us the degree to which data values cluster in the tails or the peak of a distribution.\n",
        "\n",
        "The kurtosis for a distribution can be negative, equal to zero, or positive."
      ],
      "metadata": {
        "id": "QCQUtBrsRPeL"
      }
    },
    {
      "cell_type": "code",
      "source": [
        "df.kurtosis()"
      ],
      "metadata": {
        "colab": {
          "base_uri": "https://localhost:8080/"
        },
        "id": "aVeTTe4qQ0hi",
        "outputId": "244b09a1-4d5b-48e3-9e00-ab03b755ec2e"
      },
      "execution_count": 48,
      "outputs": [
        {
          "output_type": "stream",
          "name": "stderr",
          "text": [
            "<ipython-input-48-c7edf97eb14c>:1: FutureWarning: Dropping of nuisance columns in DataFrame reductions (with 'numeric_only=None') is deprecated; in a future version this will raise TypeError.  Select only valid columns before calling the reduction.\n",
            "  df.kurtosis()\n"
          ]
        },
        {
          "output_type": "execute_result",
          "data": {
            "text/plain": [
              "rating   -1.570351\n",
              "dtype: float64"
            ]
          },
          "metadata": {},
          "execution_count": 48
        }
      ]
    },
    {
      "cell_type": "markdown",
      "source": [
        "Negative Kurtosis\n",
        "If a distribution has negative kurtosis, it is said to be platykurtic, which means that it has a flatter peak and thinner tails compared to a normal distribution"
      ],
      "metadata": {
        "id": "lWCedmTnRRVT"
      }
    },
    {
      "cell_type": "code",
      "source": [
        "norm1 = np.arange(-5, 5 , 0.001)\n",
        "mean = 0.0\n",
        "std = 1.0\n",
        "pdf = stats.norm.pdf(norm1, mean , std )\n",
        "plt.plot(norm1,pdf)\n",
        "plt.show"
      ],
      "metadata": {
        "colab": {
          "base_uri": "https://localhost:8080/",
          "height": 282
        },
        "id": "jvW3Mtq7RVi5",
        "outputId": "c1e740a2-1c42-43e1-b602-a1292492ee80"
      },
      "execution_count": 49,
      "outputs": [
        {
          "output_type": "execute_result",
          "data": {
            "text/plain": [
              "<function matplotlib.pyplot.show(close=None, block=None)>"
            ]
          },
          "metadata": {},
          "execution_count": 49
        },
        {
          "output_type": "display_data",
          "data": {
            "text/plain": [
              "<Figure size 432x288 with 1 Axes>"
            ],
            "image/png": "[encoded data removed]"
          },
          "metadata": {
            "needs_background": "light"
          }
        }
      ]
    },
    {
      "cell_type": "code",
      "source": [
        "import pylab \n",
        "stats.probplot(df3.sepal_length, plot=pylab)"
      ],
      "metadata": {
        "colab": {
          "base_uri": "https://localhost:8080/",
          "height": 1000
        },
        "id": "Ihb4zeyoRvuR",
        "outputId": "036aaf4a-2d89-4504-d04b-39828d240167"
      },
      "execution_count": 50,
      "outputs": [
        {
          "output_type": "execute_result",
          "data": {
            "text/plain": [
              "((array([-2.60376328, -2.283875  , -2.1005573 , -1.96875864, -1.86428437,\n",
              "         -1.77691182, -1.70131573, -1.63435332, -1.57400778, -1.51890417,\n",
              "         -1.46806125, -1.42075308, -1.37642684, -1.33465133, -1.29508341,\n",
              "         -1.25744533, -1.22150891, -1.18708433, -1.15401181, -1.12215558,\n",
              "         -1.0913992 , -1.06164202, -1.03279638, -1.00478546, -0.97754152,\n",
              "         -0.95100448, -0.92512081, -0.89984257, -0.87512664, -0.85093408,\n",
              "         -0.8272296 , -0.80398107, -0.78115919, -0.75873709, -0.73669013,\n",
              "         -0.71499557, -0.69363244, -0.67258128, -0.65182406, -0.63134396,\n",
              "         -0.61112532, -0.59115349, -0.57141472, -0.55189613, -0.53258558,\n",
              "         -0.51347162, -0.49454346, -0.47579085, -0.45720409, -0.43877397,\n",
              "         -0.4204917 , -0.40234892, -0.38433762, -0.36645016, -0.3486792 ,\n",
              "         -0.33101768, -0.31345882, -0.29599609, -0.27862316, -0.26133393,\n",
              "         -0.24412247, -0.22698303, -0.20991002, -0.19289797, -0.17594158,\n",
              "         -0.15903562, -0.142175  , -0.12535471, -0.10856981, -0.09181544,\n",
              "         -0.07508681, -0.05837916, -0.0416878 , -0.02500804, -0.00833524,\n",
              "          0.00833524,  0.02500804,  0.0416878 ,  0.05837916,  0.07508681,\n",
              "          0.09181544,  0.10856981,  0.12535471,  0.142175  ,  0.15903562,\n",
              "          0.17594158,  0.19289797,  0.20991002,  0.22698303,  0.24412247,\n",
              "          0.26133393,  0.27862316,  0.29599609,  0.31345882,  0.33101768,\n",
              "          0.3486792 ,  0.36645016,  0.38433762,  0.40234892,  0.4204917 ,\n",
              "          0.43877397,  0.45720409,  0.47579085,  0.49454346,  0.51347162,\n",
              "          0.53258558,  0.55189613,  0.57141472,  0.59115349,  0.61112532,\n",
              "          0.63134396,  0.65182406,  0.67258128,  0.69363244,  0.71499557,\n",
              "          0.73669013,  0.75873709,  0.78115919,  0.80398107,  0.8272296 ,\n",
              "          0.85093408,  0.87512664,  0.89984257,  0.92512081,  0.95100448,\n",
              "          0.97754152,  1.00478546,  1.03279638,  1.06164202,  1.0913992 ,\n",
              "          1.12215558,  1.15401181,  1.18708433,  1.22150891,  1.25744533,\n",
              "          1.29508341,  1.33465133,  1.37642684,  1.42075308,  1.46806125,\n",
              "          1.51890417,  1.57400778,  1.63435332,  1.70131573,  1.77691182,\n",
              "          1.86428437,  1.96875864,  2.1005573 ,  2.283875  ,  2.60376328]),\n",
              "  array([4.3, 4.4, 4.4, 4.4, 4.5, 4.6, 4.6, 4.6, 4.6, 4.7, 4.7, 4.8, 4.8,\n",
              "         4.8, 4.8, 4.8, 4.9, 4.9, 4.9, 4.9, 4.9, 4.9, 5. , 5. , 5. , 5. ,\n",
              "         5. , 5. , 5. , 5. , 5. , 5. , 5.1, 5.1, 5.1, 5.1, 5.1, 5.1, 5.1,\n",
              "         5.1, 5.1, 5.2, 5.2, 5.2, 5.2, 5.3, 5.4, 5.4, 5.4, 5.4, 5.4, 5.4,\n",
              "         5.5, 5.5, 5.5, 5.5, 5.5, 5.5, 5.5, 5.6, 5.6, 5.6, 5.6, 5.6, 5.6,\n",
              "         5.7, 5.7, 5.7, 5.7, 5.7, 5.7, 5.7, 5.7, 5.8, 5.8, 5.8, 5.8, 5.8,\n",
              "         5.8, 5.8, 5.9, 5.9, 5.9, 6. , 6. , 6. , 6. , 6. , 6. , 6.1, 6.1,\n",
              "         6.1, 6.1, 6.1, 6.1, 6.2, 6.2, 6.2, 6.2, 6.3, 6.3, 6.3, 6.3, 6.3,\n",
              "         6.3, 6.3, 6.3, 6.3, 6.4, 6.4, 6.4, 6.4, 6.4, 6.4, 6.4, 6.5, 6.5,\n",
              "         6.5, 6.5, 6.5, 6.6, 6.6, 6.7, 6.7, 6.7, 6.7, 6.7, 6.7, 6.7, 6.7,\n",
              "         6.8, 6.8, 6.8, 6.9, 6.9, 6.9, 6.9, 7. , 7.1, 7.2, 7.2, 7.2, 7.3,\n",
              "         7.4, 7.6, 7.7, 7.7, 7.7, 7.7, 7.9])),\n",
              " (0.8288552848682113, 5.843333333333334, 0.9900008795634082))"
            ]
          },
          "metadata": {},
          "execution_count": 50
        },
        {
          "output_type": "display_data",
          "data": {
            "text/plain": [
              "<Figure size 432x288 with 1 Axes>"
            ],
            "image/png": "[encoded data removed]"
          },
          "metadata": {
            "needs_background": "light"
          }
        }
      ]
    },
    {
      "cell_type": "code",
      "source": [],
      "metadata": {
        "id": "cpS1pS-HUQKJ"
      },
      "execution_count": null,
      "outputs": []
    },
    {
      "cell_type": "code",
      "source": [],
      "metadata": {
        "id": "ZRan8t6xUQCx"
      },
      "execution_count": null,
      "outputs": []
    },
    {
      "cell_type": "markdown",
      "source": [
        "for a probability plot, and optionally show the plot. Generates a probability plot of sample data against the quantiles of a specified theoretical distribution (the normal distribution by default). probplot optionally calculates a best-fit line for"
      ],
      "metadata": {
        "id": "FICVZvFIS9YI"
      }
    },
    {
      "cell_type": "code",
      "source": [
        "sns.kdeplot(df3.sepal_length)"
      ],
      "metadata": {
        "colab": {
          "base_uri": "https://localhost:8080/",
          "height": 297
        },
        "id": "zb5xUi85SggI",
        "outputId": "e2767f98-0a60-42d9-f323-07e56cca5a45"
      },
      "execution_count": 51,
      "outputs": [
        {
          "output_type": "execute_result",
          "data": {
            "text/plain": [
              "<AxesSubplot:xlabel='sepal_length', ylabel='Density'>"
            ]
          },
          "metadata": {},
          "execution_count": 51
        },
        {
          "output_type": "display_data",
          "data": {
            "text/plain": [
              "<Figure size 432x288 with 1 Axes>"
            ],
            "image/png": "[encoded data removed]"
          },
          "metadata": {
            "needs_background": "light"
          }
        }
      ]
    },
    {
      "cell_type": "markdown",
      "source": [
        "FROM THE ABOVE VISUALIZATION WE CAN SEE BOTH OF THE DATA IS SKEWED AT THE TAILS"
      ],
      "metadata": {
        "id": "20wiMCGQSosa"
      }
    },
    {
      "cell_type": "code",
      "source": [],
      "metadata": {
        "id": "XxLOt34GUOMK"
      },
      "execution_count": null,
      "outputs": []
    },
    {
      "cell_type": "code",
      "source": [],
      "metadata": {
        "id": "BcyasGdxUOUZ"
      },
      "execution_count": null,
      "outputs": []
    },
    {
      "cell_type": "markdown",
      "source": [
        "In probability theory and statistics, the binomial distribution is the discrete probability distribution that gives only two possible results in an experiment, either Success or Failure"
      ],
      "metadata": {
        "id": "kKQy5zdzT85o"
      }
    },
    {
      "cell_type": "code",
      "source": [
        "from scipy.stats import binom\n",
        "n = 6\n",
        "p = 0.5 \n",
        "r_value = list(range(n+1))\n",
        "dist = [binom.pmf(r,n,p) for r in r_value]\n",
        "plt.bar(r_value, dist)\n",
        "plt.show()"
      ],
      "metadata": {
        "colab": {
          "base_uri": "https://localhost:8080/",
          "height": 265
        },
        "id": "5Ni9sGWJS1vo",
        "outputId": "bae144df-96f7-4a29-a7c9-3ce741582576"
      },
      "execution_count": 54,
      "outputs": [
        {
          "output_type": "display_data",
          "data": {
            "text/plain": [
              "<Figure size 432x288 with 1 Axes>"
            ],
            "image/png": "[encoded data removed]"
          },
          "metadata": {
            "needs_background": "light"
          }
        }
      ]
    },
    {
      "cell_type": "code",
      "source": [],
      "metadata": {
        "id": "mK1BTWaOUMXJ"
      },
      "execution_count": null,
      "outputs": []
    },
    {
      "cell_type": "code",
      "source": [],
      "metadata": {
        "id": "JR1dbbO5UMHb"
      },
      "execution_count": null,
      "outputs": []
    },
    {
      "cell_type": "markdown",
      "source": [
        "A Poisson distribution is a discrete probability distribution. It gives the probability of an event happening a certain number of times (k) within a given interval of time or space.\n",
        "\n",
        "The Poisson distribution has only one parameter, λ (lambda), which is the mean number of events. The graph below shows examples of Poisson distributions with different values of λ."
      ],
      "metadata": {
        "id": "zE5KurDNUBpM"
      }
    },
    {
      "cell_type": "code",
      "source": [
        "s = np.random.poisson(5,1000)\n",
        "count, bins, ignored = plt.hist(s, 10, density=True)\n",
        "plt.show()"
      ],
      "metadata": {
        "colab": {
          "base_uri": "https://localhost:8080/",
          "height": 265
        },
        "id": "PdVa39BDUIn3",
        "outputId": "467cf1ac-a781-4046-865c-97e82cd77a9e"
      },
      "execution_count": 55,
      "outputs": [
        {
          "output_type": "display_data",
          "data": {
            "text/plain": [
              "<Figure size 432x288 with 1 Axes>"
            ],
            "image/png": "[encoded data removed]"
          },
          "metadata": {
            "needs_background": "light"
          }
        }
      ]
    },
    {
      "cell_type": "code",
      "source": [],
      "metadata": {
        "id": "Gt3R5PG3U4uQ"
      },
      "execution_count": null,
      "outputs": []
    },
    {
      "cell_type": "code",
      "source": [],
      "metadata": {
        "id": "SsU9Zq6wU4m6"
      },
      "execution_count": null,
      "outputs": []
    },
    {
      "cell_type": "markdown",
      "source": [
        "****Central Limit Theorem\n",
        "The Central Limit Theorem(CLT) states that for any data, provided a high number of samples have been taken. The following properties hold:\n",
        "\n",
        "Sampling Distribution Mean(μₓ¯) = Population Mean(μ)\n",
        "Sampling distribution’s standard deviation (Standard error) = σ/√n ≈S/√n\n",
        "For n > 30, the sampling distribution becomes a normal distribution.****"
      ],
      "metadata": {
        "id": "uBfzhwQOU47w"
      }
    },
    {
      "cell_type": "code",
      "source": [
        "import statsmodels.stats.api as sms \n",
        "sms.DescrStatsW(df3.sepal_length).tconfint_mean()\n"
      ],
      "metadata": {
        "colab": {
          "base_uri": "https://localhost:8080/"
        },
        "id": "2NCdQaq5U9Gx",
        "outputId": "917917eb-840c-4a1f-ec2f-dbd848c442ad"
      },
      "execution_count": 60,
      "outputs": [
        {
          "output_type": "execute_result",
          "data": {
            "text/plain": [
              "(5.709732481507366, 5.976934185159301)"
            ]
          },
          "metadata": {},
          "execution_count": 60
        }
      ]
    },
    {
      "cell_type": "code",
      "source": [],
      "metadata": {
        "id": "H7fbSlzFV7yx"
      },
      "execution_count": null,
      "outputs": []
    },
    {
      "cell_type": "code",
      "source": [
        "fig , ax = plt.subplots()\n",
        "ax2 = ax.twinx()\n",
        "n , bins, patches = ax.hist(df3.sepal_length, bins = 100)\n",
        "n , bins, patches = ax2.hist(df3.sepal_length, cumulative = 1 ,histtype='step',\n",
        "bins=100,color = 'r')"
      ],
      "metadata": {
        "colab": {
          "base_uri": "https://localhost:8080/",
          "height": 265
        },
        "id": "aSjCu7KLV7wR",
        "outputId": "e9431e80-eb05-440d-b061-0212ae93c266"
      },
      "execution_count": 61,
      "outputs": [
        {
          "output_type": "display_data",
          "data": {
            "text/plain": [
              "<Figure size 432x288 with 2 Axes>"
            ],
            "image/png": "[encoded data removed]"
          },
          "metadata": {
            "needs_background": "light"
          }
        }
      ]
    },
    {
      "cell_type": "code",
      "source": [],
      "metadata": {
        "id": "5Zg0t682Wadp"
      },
      "execution_count": null,
      "outputs": []
    },
    {
      "cell_type": "code",
      "source": [],
      "metadata": {
        "id": "ZkH2n-yEWiXf"
      },
      "execution_count": null,
      "outputs": []
    },
    {
      "cell_type": "code",
      "source": [
        "plt.hist(df3.sepal_length,cumulative=True, label='CDF', histtype='step',alpha = 0.8,color='g')"
      ],
      "metadata": {
        "colab": {
          "base_uri": "https://localhost:8080/",
          "height": 317
        },
        "id": "9WhFtG3xWaYy",
        "outputId": "88af2321-aff3-4f47-e2ba-226140e58159"
      },
      "execution_count": 62,
      "outputs": [
        {
          "output_type": "execute_result",
          "data": {
            "text/plain": [
              "(array([  9.,  32.,  46.,  73.,  89., 115., 133., 139., 144., 150.]),\n",
              " array([4.3 , 4.66, 5.02, 5.38, 5.74, 6.1 , 6.46, 6.82, 7.18, 7.54, 7.9 ]),\n",
              " [<matplotlib.patches.Polygon at 0x7f8459e2cbe0>])"
            ]
          },
          "metadata": {},
          "execution_count": 62
        },
        {
          "output_type": "display_data",
          "data": {
            "text/plain": [
              "<Figure size 432x288 with 1 Axes>"
            ],
            "image/png": "[encoded data removed]"
          },
          "metadata": {
            "needs_background": "light"
          }
        }
      ]
    },
    {
      "cell_type": "code",
      "source": [],
      "metadata": {
        "id": "PGpPsJkCW0t4"
      },
      "execution_count": null,
      "outputs": []
    },
    {
      "cell_type": "code",
      "source": [
        "cdf = stats.norm.cdf(norm1)\n",
        "plt.plot(norm1, cdf )\n",
        "plt.show()"
      ],
      "metadata": {
        "colab": {
          "base_uri": "https://localhost:8080/",
          "height": 265
        },
        "id": "4WeIMs1GW0lW",
        "outputId": "9741a68c-9e08-4256-fea9-1c37542f465a"
      },
      "execution_count": 63,
      "outputs": [
        {
          "output_type": "display_data",
          "data": {
            "text/plain": [
              "<Figure size 432x288 with 1 Axes>"
            ],
            "image/png": "[encoded data removed]"
          },
          "metadata": {
            "needs_background": "light"
          }
        }
      ]
    },
    {
      "cell_type": "code",
      "source": [],
      "metadata": {
        "id": "9w6wiWNpXBRi"
      },
      "execution_count": null,
      "outputs": []
    },
    {
      "cell_type": "code",
      "source": [
        "ax = sns.displot(df3.sepal_length)"
      ],
      "metadata": {
        "colab": {
          "base_uri": "https://localhost:8080/",
          "height": 369
        },
        "id": "mk5R9kpTXBO_",
        "outputId": "585bbcb6-1453-41a1-9386-369b19ef17b7"
      },
      "execution_count": 64,
      "outputs": [
        {
          "output_type": "display_data",
          "data": {
            "text/plain": [
              "<Figure size 360x360 with 1 Axes>"
            ],
            "image/png": "[encoded data removed]"
          },
          "metadata": {
            "needs_background": "light"
          }
        }
      ]
    }
  ]
}